{
 "cells": [
  {
   "cell_type": "markdown",
   "metadata": {},
   "source": [
    "## Section 2: Shopper Analytics - Customer Segmentation & Category Associations\n",
    "\n",
    "- Dataset\n",
    "\n",
    "#### Transaction Level Data \n",
    "\n",
    "<table align = \"left\">\n",
    "    <tr>\n",
    "        <th>sales_receipt</th>\n",
    "        <th>sales_customer</th>\n",
    "        <th>sales_product</th>\n",
    "        <th>sales_date_id</th>\n",
    "    </tr>\n",
    "    <tr>\n",
    "        <th>Receipt ID</th>\n",
    "        <th>Customer ID</th>\n",
    "        <th>Product ID</th>\n",
    "        <th>Date ID</th>\n",
    "    </tr>\n",
    "</table>"
   ]
  },
  {
   "cell_type": "code",
   "execution_count": null,
   "metadata": {},
   "outputs": [],
   "source": []
  }
 ],
 "metadata": {
  "kernelspec": {
   "display_name": "NewEnv",
   "language": "python",
   "name": "newenv"
  },
  "language_info": {
   "codemirror_mode": {
    "name": "ipython",
    "version": 3
   },
   "file_extension": ".py",
   "mimetype": "text/x-python",
   "name": "python",
   "nbconvert_exporter": "python",
   "pygments_lexer": "ipython3",
   "version": "3.7.0"
  }
 },
 "nbformat": 4,
 "nbformat_minor": 2
}
